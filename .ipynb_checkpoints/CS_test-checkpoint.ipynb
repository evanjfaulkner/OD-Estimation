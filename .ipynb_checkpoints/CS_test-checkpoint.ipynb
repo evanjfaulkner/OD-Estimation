{
 "cells": [
  {
   "cell_type": "markdown",
   "metadata": {},
   "source": [
    "# Compressed Sensing OD Estimation Test\n",
    "#### Evan Faulkner\n",
    "#### 3/24/2021\n",
    "\n",
    "### Compressed sensing method as described in:\n",
    "#### https://arxiv.org/pdf/1404.3263.pdf"
   ]
  },
  {
   "cell_type": "code",
   "execution_count": 1,
   "metadata": {},
   "outputs": [],
   "source": [
    "import math\n",
    "import numpy as np\n",
    "import matplotlib.pyplot as plt\n",
    "import networkx as nx"
   ]
  },
  {
   "cell_type": "markdown",
   "metadata": {},
   "source": [
    "### Generate Random Single Line OD Problem"
   ]
  },
  {
   "cell_type": "code",
   "execution_count": null,
   "metadata": {},
   "outputs": [],
   "source": [
    "N_stops = 8 # number of stops on the bus line\n",
    "i_max = 20 # max flow from i to j\n",
    "T_ij = np.triu(np.random.randint(0,i_max+1,size=(N_stops,N_stops)),1) # true OD matrix, upper triangular, zero main diagonal\n",
    "M_i = np.sum(T_ij,1) # boarding counts at stop i\n",
    "M_j = np.sum(T_ij,0) # alighting counts at stop j\n",
    "mask = T_ij>0 # mask off zero elements\n",
    "#t_ij = np.triu(np.ones((N_stops,N_stops)),1)*mask # seed matrix (not sure what to do)\n",
    "t_ij = np.maximum(T_ij - np.triu(np.random.randint(0,math.ceil(0.7*i_max),size=(N_stops,N_stops)),1),np.ones((N_stops,N_stops)))*mask"
   ]
  }
 ],
 "metadata": {
  "kernelspec": {
   "display_name": "Python 3",
   "language": "python",
   "name": "python3"
  },
  "language_info": {
   "codemirror_mode": {
    "name": "ipython",
    "version": 3
   },
   "file_extension": ".py",
   "mimetype": "text/x-python",
   "name": "python",
   "nbconvert_exporter": "python",
   "pygments_lexer": "ipython3",
   "version": "3.8.5"
  }
 },
 "nbformat": 4,
 "nbformat_minor": 4
}
