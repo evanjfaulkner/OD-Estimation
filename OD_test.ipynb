{
 "cells": [
  {
   "cell_type": "markdown",
   "metadata": {},
   "source": [
    "# OD Estimation Test\n",
    "## IPF and MLE Estimates\n",
    "#### Evan Faulkner\n",
    "#### 2/25/2021\n",
    "\n",
    "### Notation and algorithm described in:\n",
    "#### https://dspace.mit.edu/handle/1721.1/37970"
   ]
  },
  {
   "cell_type": "code",
   "execution_count": 1,
   "metadata": {},
   "outputs": [],
   "source": [
    "import math\n",
    "import numpy as np\n",
    "import matplotlib.pyplot as plt\n",
    "import networkx as nx"
   ]
  },
  {
   "cell_type": "markdown",
   "metadata": {},
   "source": [
    "### Generate Random Single Line OD Problem"
   ]
  },
  {
   "cell_type": "code",
   "execution_count": 2,
   "metadata": {},
   "outputs": [],
   "source": [
    "N_stops = 8 # number of stops on the bus line\n",
    "i_max = 20 # max flow from i to j\n",
    "T_ij = np.triu(np.random.randint(0,i_max+1,size=(N_stops,N_stops)),1) # true OD matrix, upper triangular, zero main diagonal\n",
    "M_i = np.sum(T_ij,1) # boarding counts at stop i\n",
    "M_j = np.sum(T_ij,0) # alighting counts at stop j\n",
    "mask = T_ij>0 # mask off zero elements\n",
    "t_ij = (np.sum(M_i)/((N_stops**2-N_stops)/2))*np.triu(np.ones((N_stops,N_stops)),1) # diffuse seed matrix\n",
    "#t_ij = np.maximum(T_ij - np.triu(np.random.randint(0,math.ceil(0.7*i_max),\\\n",
    "#                    size=(N_stops,N_stops)),1),np.ones((N_stops,N_stops)))*mask"
   ]
  },
  {
   "cell_type": "markdown",
   "metadata": {},
   "source": [
    "### IPF"
   ]
  },
  {
   "cell_type": "code",
   "execution_count": 3,
   "metadata": {},
   "outputs": [
    {
     "name": "stdout",
     "output_type": "stream",
     "text": [
      "a_i = [1.   1.   1.28 1.14 1.07 1.   1.17 1.  ] \n",
      "b_j = [1.   1.35 1.   1.02 1.   1.2  1.   1.  ]\n"
     ]
    },
    {
     "name": "stderr",
     "output_type": "stream",
     "text": [
      "<ipython-input-3-687f0b6d8783>:3: RuntimeWarning: invalid value encountered in true_divide\n",
      "  a_i = M_i/np.sum(t_ij,1) # a_i is the row factor, initialized with b_j^0=1\n",
      "<ipython-input-3-687f0b6d8783>:7: RuntimeWarning: invalid value encountered in true_divide\n",
      "  b_j = M_j/np.sum(a_i*t_ij,0) # b_j is the column factor, initialized with a_i^0\n",
      "<ipython-input-3-687f0b6d8783>:16: RuntimeWarning: invalid value encountered in true_divide\n",
      "  a = M_i/np.sum(b_j[:,-1].T*t_ij,1)\n",
      "<ipython-input-3-687f0b6d8783>:20: RuntimeWarning: invalid value encountered in true_divide\n",
      "  b = M_j/np.sum(a*t_ij,0)\n"
     ]
    }
   ],
   "source": [
    "eps = 1e-3 # stopping condition\n",
    "delta = 1 # difference between the last 2 iterations\n",
    "a_i = M_i/np.sum(t_ij,1) # a_i is the row factor, initialized with b_j^0=1\n",
    "a_i[np.isnan(a_i)]=0\n",
    "a_i[a_i<1] = 1\n",
    "a_i = np.expand_dims(a_i,1)\n",
    "b_j = M_j/np.sum(a_i*t_ij,0) # b_j is the column factor, initialized with a_i^0\n",
    "b_j[np.isnan(b_j)]=0\n",
    "b_j[b_j<1] = 1\n",
    "b_j = np.expand_dims(b_j,1)\n",
    "\n",
    "T_ipf = np.zeros((N_stops,N_stops))\n",
    "\n",
    "while True:\n",
    "    if delta>eps:\n",
    "        a = M_i/np.sum(b_j[:,-1].T*t_ij,1)\n",
    "        a[np.isnan(a)] = 0\n",
    "        a[a<1] = 1\n",
    "        a = np.expand_dims(a,1)\n",
    "        b = M_j/np.sum(a*t_ij,0)\n",
    "        b[np.isnan(b)] = 0\n",
    "        b[b<1] = 1\n",
    "        b = np.expand_dims(b,1)\n",
    "        delta = np.abs(np.mean(a-a_i[:,-1])+np.mean(b-b_j[:,-1]))\n",
    "        #print('delta = ',delta)\n",
    "        a_i = np.c_[a_i,a]\n",
    "        b_j = np.c_[b_j,b]\n",
    "    else:\n",
    "        print(f'a_i = {np.round(a_i[:,-1], 2)}', f'\\nb_j = {np.round(b_j[:,-1], 2)}')\n",
    "        break\n",
    "    \n",
    "for i in range(N_stops):\n",
    "    for j in range(N_stops):\n",
    "        T_ipf[i,j] = a_i[i,-1]*b[j,-1]*t_ij[i,j] # compute the estimated OD matrix from the final a_i, b_j, and seed entries"
   ]
  },
  {
   "cell_type": "markdown",
   "metadata": {},
   "source": [
    "### Intervening Opportunity Method"
   ]
  },
  {
   "cell_type": "code",
   "execution_count": null,
   "metadata": {},
   "outputs": [],
   "source": []
  },
  {
   "cell_type": "markdown",
   "metadata": {},
   "source": [
    "### Comparison"
   ]
  },
  {
   "cell_type": "code",
   "execution_count": 4,
   "metadata": {},
   "outputs": [
    {
     "name": "stdout",
     "output_type": "stream",
     "text": [
      "Elementwise Error in T_ipf:\n",
      " [[  0.     0.    -7.11  -2.29 -11.11   1.69   0.89  -7.11]\n",
      " [  0.     0.    -7.11   0.71   2.89  -5.31  -6.11   3.89]\n",
      " [  0.     0.     0.     1.57  -0.2    0.99  -1.2   -1.2 ]\n",
      " [  0.     0.     0.     0.    -0.63  -3.13   2.37   1.37]\n",
      " [  0.     0.     0.     0.     0.     5.76  -9.89   4.11]\n",
      " [  0.     0.     0.     0.     0.     0.    -5.11  -1.11]\n",
      " [  0.     0.     0.     0.     0.     0.     0.     0.  ]\n",
      " [  0.     0.     0.     0.     0.     0.     0.     0.  ]]\n",
      "Error in T_ipf: 0.3\n"
     ]
    }
   ],
   "source": [
    "print(f'Elementwise Error in T_ipf:\\n {np.round((T_ij-T_ipf),2)}')\n",
    "print(f'Error in T_ipf: {np.round(np.sum(np.abs(T_ij-T_ipf))/np.sum(np.abs(T_ij)),2)}')"
   ]
  },
  {
   "cell_type": "code",
   "execution_count": null,
   "metadata": {},
   "outputs": [],
   "source": []
  }
 ],
 "metadata": {
  "kernelspec": {
   "display_name": "Python 3",
   "language": "python",
   "name": "python3"
  },
  "language_info": {
   "codemirror_mode": {
    "name": "ipython",
    "version": 3
   },
   "file_extension": ".py",
   "mimetype": "text/x-python",
   "name": "python",
   "nbconvert_exporter": "python",
   "pygments_lexer": "ipython3",
   "version": "3.8.5"
  }
 },
 "nbformat": 4,
 "nbformat_minor": 4
}
