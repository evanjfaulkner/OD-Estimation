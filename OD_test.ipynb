{
 "cells": [
  {
   "cell_type": "markdown",
   "metadata": {},
   "source": [
    "# OD Estimation Test\n",
    "## Comparing Estimation Algorithms\n",
    "#### Evan Faulkner\n",
    "#### 3/29/2021\n",
    "\n",
    "### Notation and algorithms described in:\n",
    "#### IPF: https://dspace.mit.edu/handle/1721.1/37970\n",
    "#### CS: https://arxiv.org/pdf/1404.3263.pdf\n",
    "####     https://journals.sagepub.com/doi/pdf/10.1177/0361198119845896"
   ]
  },
  {
   "cell_type": "code",
   "execution_count": 1,
   "metadata": {},
   "outputs": [],
   "source": [
    "import math\n",
    "import numpy as np\n",
    "import matplotlib.pyplot as plt\n",
    "import networkx as nx\n",
    "import cvxpy as cp"
   ]
  },
  {
   "cell_type": "markdown",
   "metadata": {},
   "source": [
    "### Generate Single Line OD Problem\n",
    "\n",
    "We generate a random OD matrix for a one-way bus route and calculate the boarding and alighting counts $B_i$ and $A_j$\n",
    "\n",
    "A seed matrix needs to be initialized for the IPF algorithm. The seed can either be a diffuse/uniform prior which seems to work in the absence of a better seed. Alternatively, we can use a seed matrix which is more representative of the true OD matrix by adding zero mean noise to the entries or subtracting some proportion of the true counts."
   ]
  },
  {
   "cell_type": "code",
   "execution_count": 2,
   "metadata": {},
   "outputs": [],
   "source": [
    "N_stops = 5  # number of stops on the bus line\n",
    "i_max = 20  # max flow from i to j\n",
    "X_true = np.triu(np.random.randint(0,i_max+1,size=(N_stops,N_stops)),1)  # true OD matrix, upper triangular, zero main diagonal\n",
    "B = np.sum(X_true,1)  # boarding counts at stop i\n",
    "A = np.sum(X_true,0)  # alighting counts at stop j\n",
    "mask = X_true > 0  # mask zero elements\n",
    "X_seed = (np.sum(B)/((N_stops**2 - N_stops)/2)) * np.triu(np.ones((N_stops,N_stops)),1)  # diffuse seed matrix\n",
    "#t_ij = np.maximum(T_ij - np.triu(np.random.randint(0,math.ceil(0.7*i_max),\\\n",
    "#                    size=(N_stops,N_stops)),1),np.ones((N_stops,N_stops)))*mask  # seed matrix with unreliable counts"
   ]
  },
  {
   "cell_type": "markdown",
   "metadata": {},
   "source": [
    "### IPF\n",
    "\n",
    "The IPF algorithm attempts to find the OD matrix closest to the seed matrix which satisfies the marginal sum constraints given by the boarding and alighting counts. Thus, the prior/seed is very important to the quality of the estimate.\n",
    "\n",
    "We calculate \"row factors\" $a_i$ and \"column factors\" $b_j$ such that\n",
    "$$\\sum_{j=1}^{N} b_i x_{ij} = B_i, \\qquad \\sum_{i=1}^{N} a_j x_{ij} = A_j$$\n",
    "where $x_{ij}$ is the flow from stop $i$ to stop $j$, the $ij$ element of the OD matrix $X$, $B_i$ is the boarding count at stop $i$, and $A_j$ is the alighting count at stop $j$.\n",
    "The IPF algorithm works by calculating row and column factors iteratively, applying the previously calculated row/column factor to solve for the next column/row factor respectively. When the factor updates converge, we calculate the entries of the IPF estimated OD matrix as the product of the row and column factors with the corresponding entry of the seed matrix.\n",
    "$$\\left\\{\\widehat{X}_{IPF}\\right\\}_{ij} = a_ib_j\\left\\{X_{seed}\\right\\}_{ij}$$"
   ]
  },
  {
   "cell_type": "code",
   "execution_count": 3,
   "metadata": {},
   "outputs": [
    {
     "name": "stdout",
     "output_type": "stream",
     "text": [
      "a_i = [1.   1.24 1.41 1.04 1.  ] \n",
      "b_j = [1.   1.   1.12 1.   1.  ]\n"
     ]
    },
    {
     "name": "stderr",
     "output_type": "stream",
     "text": [
      "<ipython-input-3-f137715d58a1>:3: RuntimeWarning: invalid value encountered in true_divide\n",
      "  a_i = B/np.sum(X_seed,1)  # a_i is the row factor, initialized with b_j^0=1\n",
      "<ipython-input-3-f137715d58a1>:7: RuntimeWarning: invalid value encountered in true_divide\n",
      "  b_j = A/np.sum(a_i*X_seed,0)  # b_j is the column factor, initialized with a_i calculated above\n",
      "<ipython-input-3-f137715d58a1>:16: RuntimeWarning: invalid value encountered in true_divide\n",
      "  a = B/np.sum(b_j[:,-1].T*X_seed,1)\n",
      "<ipython-input-3-f137715d58a1>:20: RuntimeWarning: invalid value encountered in true_divide\n",
      "  b = A/np.sum(a*X_seed,0)\n"
     ]
    }
   ],
   "source": [
    "eps = 1e-3  # Stop when delta is less than eps\n",
    "delta = 1  # delta is the difference between the last 2 iterations\n",
    "a_i = B/np.sum(X_seed,1)  # a_i is the row factor, initialized with b_j^0=1\n",
    "a_i[np.isnan(a_i)] = 0\n",
    "a_i[a_i<1] = 1\n",
    "a_i = np.expand_dims(a_i,1)\n",
    "b_j = A/np.sum(a_i*X_seed,0)  # b_j is the column factor, initialized with a_i calculated above\n",
    "b_j[np.isnan(b_j)] = 0\n",
    "b_j[b_j<1] = 1\n",
    "b_j = np.expand_dims(b_j,1)\n",
    "\n",
    "X_ipf = np.zeros((N_stops,N_stops))\n",
    "\n",
    "while True:\n",
    "    if delta > eps:\n",
    "        a = B/np.sum(b_j[:,-1].T*X_seed,1)\n",
    "        a[np.isnan(a)] = 0\n",
    "        a[a<1] = 1\n",
    "        a = np.expand_dims(a,1)\n",
    "        b = A/np.sum(a*X_seed,0)\n",
    "        b[np.isnan(b)] = 0\n",
    "        b[b<1] = 1\n",
    "        b = np.expand_dims(b,1)\n",
    "        delta = np.abs(np.mean(a-a_i[:,-1])+np.mean(b-b_j[:,-1]))\n",
    "#         print('delta = ',delta)\n",
    "        a_i = np.c_[a_i,a]\n",
    "        b_j = np.c_[b_j,b]\n",
    "    else:\n",
    "        print(f'a_i = {np.round(a_i[:,-1], 2)}', f'\\nb_j = {np.round(b_j[:,-1], 2)}')\n",
    "        break\n",
    "    \n",
    "for i in range(N_stops):\n",
    "    for j in range(N_stops):\n",
    "        X_ipf[i,j] = a_i[i,-1]*b[j,-1]*X_seed[i,j]  # Compute the estimated OD matrix from the final a_i, b_j, and seed entries"
   ]
  },
  {
   "cell_type": "markdown",
   "metadata": {},
   "source": [
    "### Compressed Sensing\n",
    "\n",
    "Since we know for the single line OD estimation problem that the matrix is upper triangular, we can use compressed sensing techniques to recover a sparse OD matrix estimate that satisfies the constraints. We accomplish this by minimizing the $L_1$ norm of the vectorized OD matrix subject to the marginal constraints given by the boarding and alighting counts, as well as the structural constraints on the matrix. These constraints can be represented as a linear system of equations\n",
    "$$ A\\text{vec}(X) = b$$\n",
    "The same constraints can also be written individually.\n",
    "$$\\sum_{j=1}^N x_{ij} = b_i$$\n",
    "$$\\sum_{i=1}^N x_{ij} = a_j$$\n",
    "$$x_{ij} \\geq 0$$\n",
    "$$x_{ij} = 0 \\text{ if } i\\geq j$$"
   ]
  },
  {
   "cell_type": "code",
   "execution_count": 4,
   "metadata": {},
   "outputs": [
    {
     "name": "stdout",
     "output_type": "stream",
     "text": [
      "status: optimal\n"
     ]
    }
   ],
   "source": [
    "X = cp.Variable((N_stops,N_stops))\n",
    "obj = cp.Minimize(cp.norm(cp.vec(X),1))\n",
    "constraints = [\n",
    "    cp.sum(X,axis=0,keepdims=False) == A,  # OD estimate must match alighting counts\n",
    "    cp.sum(X,axis=1,keepdims=False) == B,  # OD estimate must match boarding counts\n",
    "    cp.upper_tri(cp.transpose(X)) == 0,  # No passengers are time travelers\n",
    "    cp.diag(X) == 0,  # No passenger gets on and off at the same stop\n",
    "    X >= 0  # Passenger counts are nonnegative\n",
    "]\n",
    "prob = cp.Problem(obj,constraints)\n",
    "prob.solve()\n",
    "X_cs = X.value\n",
    "print(\"status:\", prob.status)"
   ]
  },
  {
   "cell_type": "markdown",
   "metadata": {},
   "source": [
    "### Maximum Entropy\n",
    "\n",
    "We can use the same constraints with different objectives to obtain different OD estimates. Here, we find the maximum entropy solution subject to the same constraints above."
   ]
  },
  {
   "cell_type": "code",
   "execution_count": 5,
   "metadata": {},
   "outputs": [
    {
     "name": "stdout",
     "output_type": "stream",
     "text": [
      "status: optimal\n"
     ]
    }
   ],
   "source": [
    "X = cp.Variable((N_stops,N_stops))\n",
    "obj = cp.Maximize(cp.sum(cp.entr(X)))\n",
    "constraints = [\n",
    "    cp.sum(X,axis=0,keepdims=False) == A,  # OD estimate must match alighting counts\n",
    "    cp.sum(X,axis=1,keepdims=False) == B,  # OD estimate must match boarding counts\n",
    "    cp.upper_tri(cp.transpose(X)) == 0,  # No passengers are time travelers\n",
    "    cp.diag(X) == 0,  # No passenger gets on and off at the same stop\n",
    "    X >= 0  # Passenger counts are nonnegative\n",
    "]\n",
    "prob = cp.Problem(obj,constraints)\n",
    "prob.solve()\n",
    "X_me = X.value\n",
    "print(\"status:\", prob.status)"
   ]
  },
  {
   "cell_type": "markdown",
   "metadata": {},
   "source": [
    "### Minimum 2-norm\n",
    "\n",
    "This is the same as above with the objective as the minimum $L_2$ norm of the vectorized matrix"
   ]
  },
  {
   "cell_type": "code",
   "execution_count": 6,
   "metadata": {},
   "outputs": [
    {
     "name": "stdout",
     "output_type": "stream",
     "text": [
      "status: optimal\n"
     ]
    }
   ],
   "source": [
    "X = cp.Variable((N_stops,N_stops))\n",
    "obj = cp.Minimize(cp.norm(cp.vec(X),2))\n",
    "constraints = [\n",
    "    cp.sum(X,axis=0,keepdims=False) == A,  # OD estimate must match alighting counts\n",
    "    cp.sum(X,axis=1,keepdims=False) == B,  # OD estimate must match boarding counts\n",
    "    cp.upper_tri(cp.transpose(X)) == 0,  # No passengers are time travelers\n",
    "    cp.diag(X) == 0,  # No passenger gets on and off at the same stop\n",
    "    X >= 0  # Passenger counts are nonnegative\n",
    "]\n",
    "prob = cp.Problem(obj,constraints)\n",
    "prob.solve()\n",
    "X_l2 = X.value\n",
    "print(\"status:\", prob.status)"
   ]
  },
  {
   "cell_type": "markdown",
   "metadata": {},
   "source": [
    "### Minimum infinity-norm\n",
    "\n",
    "This is the same as above with the objective as the minimum $L_\\infty$ norm of the vectorized matrix"
   ]
  },
  {
   "cell_type": "code",
   "execution_count": 7,
   "metadata": {},
   "outputs": [
    {
     "name": "stdout",
     "output_type": "stream",
     "text": [
      "status: optimal\n"
     ]
    }
   ],
   "source": [
    "X = cp.Variable((N_stops,N_stops))\n",
    "obj = cp.Minimize(cp.norm(cp.vec(X),\"inf\"))\n",
    "constraints = [\n",
    "    cp.sum(X,axis=0,keepdims=False) == A,  # OD estimate must match alighting counts\n",
    "    cp.sum(X,axis=1,keepdims=False) == B,  # OD estimate must match boarding counts\n",
    "    cp.upper_tri(cp.transpose(X)) == 0,  # No passengers are time travelers\n",
    "    cp.diag(X) == 0,  # No passenger gets on and off at the same stop\n",
    "    X >= 0  # Passenger counts are nonnegative\n",
    "]\n",
    "prob = cp.Problem(obj,constraints)\n",
    "prob.solve()\n",
    "X_inf = X.value\n",
    "print(\"status:\", prob.status)"
   ]
  },
  {
   "cell_type": "markdown",
   "metadata": {},
   "source": [
    "### Comparison"
   ]
  },
  {
   "cell_type": "code",
   "execution_count": 8,
   "metadata": {},
   "outputs": [
    {
     "name": "stdout",
     "output_type": "stream",
     "text": [
      "Error in X_ipf: 0.42\n"
     ]
    }
   ],
   "source": [
    "print(f'Error in X_ipf: {np.round(np.sum(np.abs(X_true-X_ipf))/np.sum(np.abs(X_true)),2)}')"
   ]
  },
  {
   "cell_type": "code",
   "execution_count": 9,
   "metadata": {},
   "outputs": [
    {
     "name": "stdout",
     "output_type": "stream",
     "text": [
      "Error in X_cs: 0.26\n"
     ]
    }
   ],
   "source": [
    "print(f'Error in X_cs: {np.round(np.sum(np.abs(X_true-X_cs))/np.sum(np.abs(X_true)),2)}')"
   ]
  },
  {
   "cell_type": "code",
   "execution_count": 10,
   "metadata": {},
   "outputs": [
    {
     "name": "stdout",
     "output_type": "stream",
     "text": [
      "Error in X_me: 0.27\n"
     ]
    }
   ],
   "source": [
    "print(f'Error in X_me: {np.round(np.sum(np.abs(X_true-X_me))/np.sum(np.abs(X_true)),2)}')"
   ]
  },
  {
   "cell_type": "code",
   "execution_count": 11,
   "metadata": {},
   "outputs": [
    {
     "name": "stdout",
     "output_type": "stream",
     "text": [
      "Error in X_l2: 0.31\n"
     ]
    }
   ],
   "source": [
    "print(f'Error in X_l2: {np.round(np.sum(np.abs(X_true-X_l2))/np.sum(np.abs(X_true)),2)}')"
   ]
  },
  {
   "cell_type": "code",
   "execution_count": 12,
   "metadata": {},
   "outputs": [
    {
     "name": "stdout",
     "output_type": "stream",
     "text": [
      "Error in X_inf: 0.4\n"
     ]
    }
   ],
   "source": [
    "print(f'Error in X_inf: {np.round(np.sum(np.abs(X_true-X_inf))/np.sum(np.abs(X_true)),2)}')"
   ]
  },
  {
   "cell_type": "code",
   "execution_count": 13,
   "metadata": {},
   "outputs": [
    {
     "data": {
      "text/plain": [
       "array([[ 0,  5,  4,  5,  8],\n",
       "       [ 0,  0, 20, 12,  5],\n",
       "       [ 0,  0,  0,  9, 18],\n",
       "       [ 0,  0,  0,  0, 10],\n",
       "       [ 0,  0,  0,  0,  0]])"
      ]
     },
     "execution_count": 13,
     "metadata": {},
     "output_type": "execute_result"
    }
   ],
   "source": [
    "X_true"
   ]
  },
  {
   "cell_type": "code",
   "execution_count": 14,
   "metadata": {},
   "outputs": [
    {
     "data": {
      "text/plain": [
       "array([[ 0., 10., 11., 10., 10.],\n",
       "       [ 0.,  0., 13., 12., 12.],\n",
       "       [ 0.,  0.,  0., 14., 14.],\n",
       "       [ 0.,  0.,  0.,  0., 10.],\n",
       "       [ 0.,  0.,  0.,  0.,  0.]])"
      ]
     },
     "execution_count": 14,
     "metadata": {},
     "output_type": "execute_result"
    }
   ],
   "source": [
    "X_ipf.round()"
   ]
  },
  {
   "cell_type": "code",
   "execution_count": 15,
   "metadata": {},
   "outputs": [
    {
     "data": {
      "text/plain": [
       "array([[ 0.,  5.,  7.,  5.,  5.],\n",
       "       [ 0.,  0., 17.,  9., 11.],\n",
       "       [ 0.,  0.,  0., 12., 15.],\n",
       "       [ 0.,  0.,  0.,  0., 10.],\n",
       "       [-0.,  0.,  0.,  0.,  0.]])"
      ]
     },
     "execution_count": 15,
     "metadata": {},
     "output_type": "execute_result"
    }
   ],
   "source": [
    "X_cs.round()"
   ]
  },
  {
   "cell_type": "code",
   "execution_count": 16,
   "metadata": {},
   "outputs": [
    {
     "data": {
      "text/plain": [
       "array([[ 0.,  5.,  8.,  4.,  5.],\n",
       "       [ 0.,  0., 16.,  9., 11.],\n",
       "       [ 0.,  0.,  0., 12., 15.],\n",
       "       [ 0.,  0.,  0.,  0., 10.],\n",
       "       [-0.,  0.,  0.,  0.,  0.]])"
      ]
     },
     "execution_count": 16,
     "metadata": {},
     "output_type": "execute_result"
    }
   ],
   "source": [
    "X_me.round()"
   ]
  },
  {
   "cell_type": "code",
   "execution_count": 17,
   "metadata": {},
   "outputs": [
    {
     "data": {
      "text/plain": [
       "array([[ 0.,  5.,  9.,  3.,  5.],\n",
       "       [ 0.,  0., 15., 10., 12.],\n",
       "       [ 0.,  0.,  0., 13., 14.],\n",
       "       [ 0.,  0.,  0.,  0., 10.],\n",
       "       [-0.,  0.,  0.,  0.,  0.]])"
      ]
     },
     "execution_count": 17,
     "metadata": {},
     "output_type": "execute_result"
    }
   ],
   "source": [
    "X_l2.round()"
   ]
  },
  {
   "cell_type": "code",
   "execution_count": 18,
   "metadata": {},
   "outputs": [
    {
     "data": {
      "text/plain": [
       "array([[ 0.,  5., 11.,  2.,  5.],\n",
       "       [ 0.,  0., 13., 11., 13.],\n",
       "       [ 0.,  0.,  0., 13., 14.],\n",
       "       [ 0.,  0.,  0.,  0., 10.],\n",
       "       [-0.,  0.,  0.,  0.,  0.]])"
      ]
     },
     "execution_count": 18,
     "metadata": {},
     "output_type": "execute_result"
    }
   ],
   "source": [
    "X_inf.round()"
   ]
  }
 ],
 "metadata": {
  "kernelspec": {
   "display_name": "Python 3",
   "language": "python",
   "name": "python3"
  },
  "language_info": {
   "codemirror_mode": {
    "name": "ipython",
    "version": 3
   },
   "file_extension": ".py",
   "mimetype": "text/x-python",
   "name": "python",
   "nbconvert_exporter": "python",
   "pygments_lexer": "ipython3",
   "version": "3.8.5"
  }
 },
 "nbformat": 4,
 "nbformat_minor": 4
}
