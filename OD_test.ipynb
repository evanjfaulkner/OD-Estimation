{
 "cells": [
  {
   "cell_type": "markdown",
   "metadata": {},
   "source": [
    "# OD Estimation Test\n",
    "## IPF and MLE Estimates\n",
    "#### Evan Faulkner\n",
    "#### 2/25/2021\n",
    "\n",
    "### Notation and algorithm described in:\n",
    "#### https://dspace.mit.edu/handle/1721.1/37970"
   ]
  },
  {
   "cell_type": "code",
   "execution_count": 1,
   "metadata": {},
   "outputs": [
    {
     "ename": "ModuleNotFoundError",
     "evalue": "No module named 'networkx'",
     "output_type": "error",
     "traceback": [
      "\u001b[1;31m---------------------------------------------------------------------------\u001b[0m",
      "\u001b[1;31mModuleNotFoundError\u001b[0m                       Traceback (most recent call last)",
      "\u001b[1;32m<ipython-input-1-f58368029f3d>\u001b[0m in \u001b[0;36m<module>\u001b[1;34m\u001b[0m\n\u001b[0;32m      2\u001b[0m \u001b[1;32mimport\u001b[0m \u001b[0mnumpy\u001b[0m \u001b[1;32mas\u001b[0m \u001b[0mnp\u001b[0m\u001b[1;33m\u001b[0m\u001b[1;33m\u001b[0m\u001b[0m\n\u001b[0;32m      3\u001b[0m \u001b[1;32mimport\u001b[0m \u001b[0mmatplotlib\u001b[0m\u001b[1;33m.\u001b[0m\u001b[0mpyplot\u001b[0m \u001b[1;32mas\u001b[0m \u001b[0mplt\u001b[0m\u001b[1;33m\u001b[0m\u001b[1;33m\u001b[0m\u001b[0m\n\u001b[1;32m----> 4\u001b[1;33m \u001b[1;32mimport\u001b[0m \u001b[0mnetworkx\u001b[0m \u001b[1;32mas\u001b[0m \u001b[0mnx\u001b[0m\u001b[1;33m\u001b[0m\u001b[1;33m\u001b[0m\u001b[0m\n\u001b[0m",
      "\u001b[1;31mModuleNotFoundError\u001b[0m: No module named 'networkx'"
     ]
    }
   ],
   "source": [
    "import math\n",
    "import numpy as np\n",
    "import matplotlib.pyplot as plt\n",
    "import networkx as nx"
   ]
  },
  {
   "cell_type": "markdown",
   "metadata": {},
   "source": [
    "### Generate Random Single Line OD Problem"
   ]
  },
  {
   "cell_type": "code",
   "execution_count": null,
   "metadata": {},
   "outputs": [],
   "source": [
    "N_stops = 8 # number of stops on the bus line\n",
    "i_max = 20 # max flow from i to j\n",
    "T_ij = np.triu(np.random.randint(0,i_max+1,size=(N_stops,N_stops)),1) # true OD matrix, upper triangular, zero main diagonal\n",
    "M_i = np.sum(T_ij,1) # boarding counts at stop i\n",
    "M_j = np.sum(T_ij,0) # alighting counts at stop j\n",
    "mask = T_ij>0 # mask off zero elements\n",
    "t_ij = (np.sum(M_i)/((N_stops**2-N_stops)/2))*np.triu(np.ones((N_stops,N_stops)),1) # diffuse seed matrix\n",
    "#t_ij = np.maximum(T_ij - np.triu(np.random.randint(0,math.ceil(0.7*i_max),\\\n",
    "#                    size=(N_stops,N_stops)),1),np.ones((N_stops,N_stops)))*mask"
   ]
  },
  {
   "cell_type": "markdown",
   "metadata": {},
   "source": [
    "### IPF"
   ]
  },
  {
   "cell_type": "code",
   "execution_count": null,
   "metadata": {},
   "outputs": [],
   "source": [
    "eps = 1e-3 # stopping condition\n",
    "delta = 1 # difference between the last 2 iterations\n",
    "a_i = M_i/np.sum(t_ij,1) # a_i is the row factor, initialized with b_j^0=1\n",
    "a_i[np.isnan(a_i)]=0\n",
    "a_i[a_i<1] = 1\n",
    "a_i = np.expand_dims(a_i,1)\n",
    "b_j = M_j/np.sum(a_i*t_ij,0) # b_j is the column factor, initialized with a_i^0\n",
    "b_j[np.isnan(b_j)]=0\n",
    "b_j[b_j<1] = 1\n",
    "b_j = np.expand_dims(b_j,1)\n",
    "\n",
    "T_ipf = np.zeros((N_stops,N_stops))\n",
    "\n",
    "while True:\n",
    "    if delta>eps:\n",
    "        a = M_i/np.sum(b_j[:,-1].T*t_ij,1)\n",
    "        a[np.isnan(a)] = 0\n",
    "        a[a<1] = 1\n",
    "        a = np.expand_dims(a,1)\n",
    "        b = M_j/np.sum(a*t_ij,0)\n",
    "        b[np.isnan(b)] = 0\n",
    "        b[b<1] = 1\n",
    "        b = np.expand_dims(b,1)\n",
    "        delta = np.abs(np.mean(a-a_i[:,-1])+np.mean(b-b_j[:,-1]))\n",
    "        #print('delta = ',delta)\n",
    "        a_i = np.c_[a_i,a]\n",
    "        b_j = np.c_[b_j,b]\n",
    "    else:\n",
    "        print(f'a_i = {np.round(a_i[:,-1], 2)}', f'\\nb_j = {np.round(b_j[:,-1], 2)}')\n",
    "        break\n",
    "    \n",
    "for i in range(N_stops):\n",
    "    for j in range(N_stops):\n",
    "        T_ipf[i,j] = a_i[i,-1]*b[j,-1]*t_ij[i,j] # compute the estimated OD matrix from the final a_i, b_j, and seed entries"
   ]
  },
  {
   "cell_type": "markdown",
   "metadata": {},
   "source": [
    "### Intervening Opportunity Method"
   ]
  },
  {
   "cell_type": "code",
   "execution_count": null,
   "metadata": {},
   "outputs": [],
   "source": []
  },
  {
   "cell_type": "markdown",
   "metadata": {},
   "source": [
    "### Comparison"
   ]
  },
  {
   "cell_type": "code",
   "execution_count": null,
   "metadata": {},
   "outputs": [],
   "source": [
    "print(f'Elementwise Error in T_ipf:\\n {np.round((T_ij-T_ipf),2)}')\n",
    "print(f'Error in T_ipf: {np.round(np.sum(np.abs(T_ij-T_ipf))/np.sum(np.abs(T_ij)),2)}')"
   ]
  },
  {
   "cell_type": "code",
   "execution_count": null,
   "metadata": {},
   "outputs": [],
   "source": []
  }
 ],
 "metadata": {
  "kernelspec": {
   "display_name": "Python 3",
   "language": "python",
   "name": "python3"
  },
  "language_info": {
   "codemirror_mode": {
    "name": "ipython",
    "version": 3
   },
   "file_extension": ".py",
   "mimetype": "text/x-python",
   "name": "python",
   "nbconvert_exporter": "python",
   "pygments_lexer": "ipython3",
   "version": "3.8.5"
  }
 },
 "nbformat": 4,
 "nbformat_minor": 4
}
